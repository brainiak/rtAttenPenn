{
 "cells": [
  {
   "cell_type": "code",
   "execution_count": 1,
   "metadata": {},
   "outputs": [
    {
     "name": "stdout",
     "output_type": "stream",
     "text": [
      "The autoreload extension is already loaded. To reload it, use:\n",
      "  %reload_ext autoreload\n"
     ]
    }
   ],
   "source": [
    "%load_ext autoreload\n",
    "%autoreload 2"
   ]
  },
  {
   "cell_type": "code",
   "execution_count": 15,
   "metadata": {},
   "outputs": [],
   "source": [
    "import rtAttenPy\n",
    "import contexttimer\n",
    "import scipy.io\n",
    "import numpy as np\n",
    "\n",
    "a = scipy.io.loadmat('logistic_in.mat')\n",
    "b = scipy.io.loadmat('logistic_out.mat')\n",
    "\n",
    "data = a['a']['data'][0][0]\n",
    "labels = [x[0] for x in a['a']['labels'][0][0]]\n",
    "\n",
    "classifier = rtAttenPy.logistic(data, labels)"
   ]
  },
  {
   "cell_type": "code",
   "execution_count": 43,
   "metadata": {},
   "outputs": [],
   "source": [
    "sklearn_weights = classifier.coef_\n",
    "sklearn_biases = classifier.intercept_\n",
    "\n",
    "# Take weights from first class (equal to negative of weights from second class)\n",
    "matlab_weights = b['trainedModel']['weights'][0][0][:,1][np.newaxis]\n",
    "\n",
    "# Take biases from first class (equal to negative of biases from second class)\n",
    "matlab_biases = b['trainedModel']['biases'][0][0][0][0]"
   ]
  },
  {
   "cell_type": "code",
   "execution_count": 41,
   "metadata": {},
   "outputs": [
    {
     "name": "stdout",
     "output_type": "stream",
     "text": [
      "[[ 0.00097815 -0.00010842  0.00017576 ...,  0.00150526 -0.00130483\n",
      "  -0.00301625]]\n"
     ]
    }
   ],
   "source": [
    "print(sklearn_weights)"
   ]
  },
  {
   "cell_type": "code",
   "execution_count": 40,
   "metadata": {},
   "outputs": [
    {
     "name": "stdout",
     "output_type": "stream",
     "text": [
      "[[ -5.87039478e-04  -2.93692192e-06   1.29673483e-05 ...,  -6.04576949e-04\n",
      "    8.95814735e-04   1.80596688e-03]]\n"
     ]
    }
   ],
   "source": [
    "print(matlab_weights)"
   ]
  },
  {
   "cell_type": "code",
   "execution_count": 44,
   "metadata": {},
   "outputs": [
    {
     "name": "stdout",
     "output_type": "stream",
     "text": [
      "-0.00207494035926\n"
     ]
    }
   ],
   "source": [
    "print(matlab_biases)"
   ]
  },
  {
   "cell_type": "code",
   "execution_count": 49,
   "metadata": {},
   "outputs": [
    {
     "name": "stdout",
     "output_type": "stream",
     "text": [
      "-0.0216375599529\n"
     ]
    }
   ],
   "source": []
  },
  {
   "cell_type": "code",
   "execution_count": null,
   "metadata": {},
   "outputs": [],
   "source": []
  }
 ],
 "metadata": {
  "kernelspec": {
   "display_name": "Python 3",
   "language": "python",
   "name": "python3"
  },
  "language_info": {
   "codemirror_mode": {
    "name": "ipython",
    "version": 3
   },
   "file_extension": ".py",
   "mimetype": "text/x-python",
   "name": "python",
   "nbconvert_exporter": "python",
   "pygments_lexer": "ipython3",
   "version": "3.6.3"
  }
 },
 "nbformat": 4,
 "nbformat_minor": 2
}
